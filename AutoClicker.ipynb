{
 "cells": [
  {
   "cell_type": "code",
   "execution_count": 1,
   "metadata": {},
   "outputs": [
    {
     "name": "stdout",
     "output_type": "stream",
     "text": [
      "Collecting pynput\n",
      "  Downloading pynput-1.7.7-py2.py3-none-any.whl (90 kB)\n",
      "     -------------------------------------- 90.2/90.2 kB 851.1 kB/s eta 0:00:00\n",
      "Requirement already satisfied: six in c:\\users\\asus2\\appdata\\roaming\\python\\python311\\site-packages (from pynput) (1.16.0)\n",
      "Installing collected packages: pynput\n",
      "Successfully installed pynput-1.7.7\n",
      "Note: you may need to restart the kernel to use updated packages.\n"
     ]
    },
    {
     "name": "stderr",
     "output_type": "stream",
     "text": [
      "\n",
      "[notice] A new release of pip available: 22.3.1 -> 24.3.1\n",
      "[notice] To update, run: python.exe -m pip install --upgrade pip\n"
     ]
    }
   ],
   "source": [
    "pip install pynput"
   ]
  },
  {
   "cell_type": "code",
   "execution_count": 2,
   "metadata": {},
   "outputs": [],
   "source": [
    "# importing time and threading \n",
    "import time \n",
    "import threading \n",
    "from pynput.mouse import Button, Controller \n",
    "\n",
    "# pynput.keyboard is used to watch events of \n",
    "# keyboard for start and stop of auto-clicker \n",
    "from pynput.keyboard import Listener, KeyCode "
   ]
  },
  {
   "cell_type": "code",
   "execution_count": 3,
   "metadata": {},
   "outputs": [],
   "source": [
    "# four variables are created to \n",
    "# control the auto-clicker \n",
    "delay = 0.001\n",
    "button = Button.right \n",
    "start_stop_key = KeyCode(char='a') \n",
    "stop_key = KeyCode(char='b') \n"
   ]
  },
  {
   "cell_type": "code",
   "execution_count": 4,
   "metadata": {},
   "outputs": [],
   "source": [
    "# threading.Thread is used \n",
    "# to control clicks \n",
    "class ClickMouse(threading.Thread): \n",
    "\t\n",
    "# delay and button is passed in class \n",
    "# to check execution of auto-clicker \n",
    "\tdef __init__(self, delay, button): \n",
    "\t\tsuper(ClickMouse, self).__init__() \n",
    "\t\tself.delay = delay \n",
    "\t\tself.button = button \n",
    "\t\tself.running = False\n",
    "\t\tself.program_running = True\n"
   ]
  },
  {
   "cell_type": "code",
   "execution_count": 5,
   "metadata": {},
   "outputs": [],
   "source": [
    "def start_clicking(self): \n",
    "\t\tself.running = True\n",
    "\n",
    "def stop_clicking(self): \n",
    "\t\tself.running = False\n",
    "\n",
    "def exit(self): \n",
    "\t\tself.stop_clicking() \n",
    "\t\tself.program_running = False\n"
   ]
  },
  {
   "cell_type": "code",
   "execution_count": 6,
   "metadata": {},
   "outputs": [],
   "source": [
    "# method to check and run loop until \n",
    "# it is true another loop will check \n",
    "# if it is set to true or not, \n",
    "# for mouse click it set to button \n",
    "# and delay. \n",
    "def run(self): \n",
    "\twhile self.program_running: \n",
    "\t\twhile self.running: \n",
    "\t\t\tmouse.click(self.button) \n",
    "\t\t\ttime.sleep(self.delay) \n",
    "\t\ttime.sleep(0.1)\n"
   ]
  },
  {
   "cell_type": "code",
   "execution_count": 7,
   "metadata": {},
   "outputs": [],
   "source": [
    "# instance of mouse controller is created \n",
    "mouse = Controller() \n",
    "click_thread = ClickMouse(delay, button) \n",
    "click_thread.start() \n"
   ]
  },
  {
   "cell_type": "code",
   "execution_count": 8,
   "metadata": {},
   "outputs": [],
   "source": [
    "# on_press method takes \n",
    "# key as argument \n",
    "\n",
    "\n",
    "def on_press(key): \n",
    "\n",
    "# start_stop_key will stop clicking \n",
    "# if running flag is set to true \n",
    "\tif key == start_stop_key: \n",
    "\t\tif click_thread.running: \n",
    "\t\t\tclick_thread.stop_clicking() \n",
    "\t\telse: \n",
    "\t\t\tclick_thread.start_clicking() \n",
    "\n",
    "\t# here exit method is called and when \n",
    "\t# key is pressed it terminates auto clicker \n",
    "\telif key == stop_key: \n",
    "\t\tclick_thread.exit() \n",
    "\t\tlistener.stop() \n",
    "\n",
    "\n",
    "with Listener(on_press=on_press) as listener: \n",
    "\tlistener.join() \n"
   ]
  }
 ],
 "metadata": {
  "kernelspec": {
   "display_name": "Python 3",
   "language": "python",
   "name": "python3"
  },
  "language_info": {
   "codemirror_mode": {
    "name": "ipython",
    "version": 3
   },
   "file_extension": ".py",
   "mimetype": "text/x-python",
   "name": "python",
   "nbconvert_exporter": "python",
   "pygments_lexer": "ipython3",
   "version": "3.11.2"
  }
 },
 "nbformat": 4,
 "nbformat_minor": 2
}
